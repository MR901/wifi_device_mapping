{
 "cells": [
  {
   "cell_type": "markdown",
   "metadata": {},
   "source": [
    "https://pypi.org/project/scapy-unroot/  \n",
    "https://pypi.org/project/lanscan/  \n",
    "   \n",
    "https://pypi.org/project/netifaces/  \n",
    "https://pypi.org/project/get-mac/  \n",
    "https://github.com/giampaolo/psutil  \n",
    "\n",
    "https://github.com/devmarcstorm/python-network-scanner https://pypi.org/project/python-nmap/  \n",
    "    - https://geektechstuff.com/2020/06/03/python-and-nmap-scanning-for-hosts-python/  \n",
    "    - https://www.studytonight.com/network-programming-in-python/integrating-port-scanner-with-nmap  \n",
    "\n",
    "    \n",
    "\n",
    "#### scapy based\n",
    "https://github.com/jtalway/Network-Scanner  \n",
    "https://github.com/dharmil18/Network-Scanner  \n",
    "\n",
    "#### don't work on macos  \n",
    "https://pypi.org/project/networkscan/  \n"
   ]
  },
  {
   "cell_type": "code",
   "execution_count": null,
   "metadata": {},
   "outputs": [],
   "source": []
  },
  {
   "cell_type": "code",
   "execution_count": null,
   "metadata": {},
   "outputs": [],
   "source": [
    "\n",
    "'''\n",
    "## Reference\n",
    "\n",
    "https://stackoverflow.com/a/166589\n",
    "'''\n",
    "\n"
   ]
  },
  {
   "cell_type": "code",
   "execution_count": null,
   "metadata": {},
   "outputs": [],
   "source": [
    "\n",
    "import socket, subprocess\n",
    "from getmac import get_mac_address\n",
    "import netifaces\n",
    "\n"
   ]
  },
  {
   "cell_type": "code",
   "execution_count": 13,
   "metadata": {
    "ExecuteTime": {
     "end_time": "2021-06-20T17:15:15.337273Z",
     "start_time": "2021-06-20T17:15:15.315788Z"
    }
   },
   "outputs": [
    {
     "data": {
      "text/plain": [
       "{'192.168.1.45': '38:f9:d3:c2:39:da'}"
      ]
     },
     "execution_count": 13,
     "metadata": {},
     "output_type": "execute_result"
    }
   ],
   "source": [
    "\n",
    "## This Machine Local IP\n",
    "def get_this_device_mapping(way=1):\n",
    "    '''\n",
    "    Returns:\n",
    "        {ip:mac_address} of this device\n",
    "    '''\n",
    "    if way==1:\n",
    "        s = socket.socket(socket.AF_INET, socket.SOCK_DGRAM)\n",
    "        s.connect((\"8.8.8.8\", 80))\n",
    "        this_device_local_ip = s.getsockname()[0]\n",
    "        s.close()\n",
    "        this_device_mac = get_mac_address(ip=this_device_local_ip)\n",
    "    \n",
    "    elif way==2:\n",
    "        # netifaces.interfaces()\n",
    "        address = netifaces.ifaddresses('en0')\n",
    "        this_device_local_ip = address[netifaces.AF_INET][0]['addr']\n",
    "        this_device_mac = address[netifaces.AF_LINK][0]['addr']\n",
    "\n",
    "    local_network_map_di = {\n",
    "        this_device_local_ip: this_device_mac\n",
    "    }\n",
    "    return local_network_map_di\n",
    "\n",
    "\n",
    "get_this_device_mapping()\n"
   ]
  },
  {
   "cell_type": "code",
   "execution_count": 15,
   "metadata": {
    "ExecuteTime": {
     "end_time": "2021-06-20T17:15:23.032772Z",
     "start_time": "2021-06-20T17:15:23.014286Z"
    }
   },
   "outputs": [
    {
     "data": {
      "text/plain": [
       "{'192.168.1.1': 'b4:f9:49:48:5a:d0',\n",
       " '192.168.1.45': '38:f9:d3:c2:39:da',\n",
       " '192.168.1.255': 'ff:ff:ff:ff:ff:ff',\n",
       " '224.0.0.251': '1:0:5e:0:0:fb',\n",
       " '239.255.255.250': '1:0:5e:7f:ff:fa'}"
      ]
     },
     "execution_count": 15,
     "metadata": {},
     "output_type": "execute_result"
    }
   ],
   "source": [
    "\n",
    "## get all IP that are connected to router (Local Network)\n",
    "def get_local_network_mapping():\n",
    "    ''' all the IPs starting with 192.168.1'''\n",
    "    # for i in range(255):\n",
    "    #     command=['ping', '-n', '1','-w','100', '192.168.1.'+str(i)]\n",
    "    #     print(' '.join(command))\n",
    "    #     subprocess.call(command)\n",
    "\n",
    "    arpa = subprocess.check_output(('arp', '-a')).decode('ascii')\n",
    "    li = [ (e.split()[1], e.split()[3]) for e in [ rec for rec in arpa.split('\\n') ] if len(e.split()) > 3]\n",
    "    mapping_di = { ''.join([ e for e in e1 if e.isdigit() or e=='.']):e2 \n",
    "                  for e1,e2 in li if 'incomplete' not in e2 }\n",
    "    # mapping_di = { k:mapping_di[k] for k in mapping_di if '192.168.1' in k }\n",
    "    return mapping_di\n",
    "\n",
    "\n",
    "\n",
    "get_local_network_mapping()\n",
    "\n"
   ]
  },
  {
   "cell_type": "code",
   "execution_count": null,
   "metadata": {},
   "outputs": [],
   "source": [
    "# rtsp://username:password@IP Address:554/stream1\n"
   ]
  },
  {
   "cell_type": "code",
   "execution_count": null,
   "metadata": {},
   "outputs": [],
   "source": []
  },
  {
   "cell_type": "code",
   "execution_count": null,
   "metadata": {},
   "outputs": [],
   "source": []
  },
  {
   "cell_type": "code",
   "execution_count": null,
   "metadata": {
    "ExecuteTime": {
     "end_time": "2021-05-30T09:26:44.251826Z",
     "start_time": "2021-05-30T09:26:44.247964Z"
    }
   },
   "outputs": [],
   "source": [
    "get_this_device_mapping()"
   ]
  },
  {
   "cell_type": "code",
   "execution_count": null,
   "metadata": {},
   "outputs": [],
   "source": [
    "nmap -sP 192.168.1.0/24 | grep -B 2 \"a6:94:15:5e:36:0\" | head -n 1 | cut -d \" \" -f 5"
   ]
  },
  {
   "cell_type": "code",
   "execution_count": 7,
   "metadata": {
    "ExecuteTime": {
     "end_time": "2021-06-20T17:13:04.891772Z",
     "start_time": "2021-06-20T17:13:04.872750Z"
    }
   },
   "outputs": [],
   "source": [
    "## main\n",
    "\n",
    "# from prettytable import PrettyTable\n",
    "# import json\n",
    "\n",
    "import os\n",
    "import sys\n",
    "import nmap\n",
    "from getmac import get_mac_address\n",
    "from datetime import date, datetime\n",
    "\n"
   ]
  },
  {
   "cell_type": "code",
   "execution_count": 8,
   "metadata": {
    "ExecuteTime": {
     "end_time": "2021-06-20T17:13:09.342523Z",
     "start_time": "2021-06-20T17:13:05.624672Z"
    }
   },
   "outputs": [
    {
     "name": "stdout",
     "output_type": "stream",
     "text": [
      "{}\n"
     ]
    }
   ],
   "source": [
    "## network\n",
    "\n",
    "nm = nmap.PortScanner()\n",
    "\n",
    "scan_range = nm.scan(hosts=\"192.168.1.2\", timeout=100)\n",
    "\n",
    "print(scan_range['scan'])\n",
    "\n",
    "    \n",
    "    "
   ]
  },
  {
   "cell_type": "code",
   "execution_count": 9,
   "metadata": {
    "ExecuteTime": {
     "end_time": "2021-06-20T17:13:12.663770Z",
     "start_time": "2021-06-20T17:13:09.360432Z"
    }
   },
   "outputs": [
    {
     "name": "stdout",
     "output_type": "stream",
     "text": [
      "Scanning 192.168.1.10/24...\n"
     ]
    },
    {
     "data": {
      "text/plain": [
       "[('192.168.1.1',\n",
       "  {'hostnames': [{'name': '', 'type': ''}],\n",
       "   'addresses': {'ipv4': '192.168.1.1'},\n",
       "   'vendor': {},\n",
       "   'status': {'state': 'up', 'reason': 'syn-ack'},\n",
       "   'mac': 'b4:f9:49:48:5a:d0'})]"
      ]
     },
     "execution_count": 9,
     "metadata": {},
     "output_type": "execute_result"
    }
   ],
   "source": [
    "# from network import Network\n",
    "\n",
    "class Network(object):\n",
    "    def __init__(self, ip=None):\n",
    "        self.ip_default = '192.168.1.1'\n",
    "        self.ip = ip if ip is not None else self.ip_default\n",
    "        self.nm = nmap.PortScanner()\n",
    "        \n",
    "        \n",
    "    def get_devices(self):\n",
    "        '''\n",
    "        Desc: Creates a list of items that contain device information\n",
    "        Return:\n",
    "            a list\n",
    "        '''\n",
    "        if len(self.ip) >= 1:\n",
    "            network_to_scan = self.ip + '/24'\n",
    "        else:\n",
    "            network_to_scan = self.ip_default + '/24'\n",
    "\n",
    "        print('Scanning {}...'.format(network_to_scan))\n",
    "        self.nm.scan(hosts=network_to_scan, arguments='-sn') \n",
    "        device_list = [(device, self.nm[device]) for device in self.nm.all_hosts()]\n",
    "        return device_list\n",
    "    \n",
    "\n",
    "devices = Network('192.168.1.10').get_devices()\n",
    "\n",
    "for host, info in devices:\n",
    "    info['mac'] = get_mac_address(ip=host)\n",
    "    \n",
    "\n",
    "devices\n"
   ]
  },
  {
   "cell_type": "code",
   "execution_count": 10,
   "metadata": {
    "ExecuteTime": {
     "end_time": "2021-06-20T17:13:12.695707Z",
     "start_time": "2021-06-20T17:13:12.680176Z"
    }
   },
   "outputs": [],
   "source": [
    "class Device(object):\n",
    "    def __init__(self, mac, ip, network_name, data={}):\n",
    "        \n",
    "        self.color_di = { # terminal color\n",
    "            'red': '\\033[0;31;40m',\n",
    "            'green': '\\033[0;32;40m',\n",
    "            'normal': '\\033[0m'\n",
    "        }\n",
    "        self.mac = mac\n",
    "        self.ip = ip\n",
    "        self.network_name = network_name\n",
    "\n",
    "        self.name = None\n",
    "        self.allowed = None\n",
    "        self.location = None\n",
    "\n",
    "        device_check = self.device_known(data)\n",
    "        if device_check:\n",
    "            self.name = device_check['name']\n",
    "            self.allowed = device_check['allowed']\n",
    "            self.location = device_check['location']\n",
    "\n",
    "    def device_known(self, data):\n",
    "        '''Return a str (given name of the device) or None\n",
    "\n",
    "        Checks whether the device is contained in the Dictonary (based on the mac address)\n",
    "        '''\n",
    "        mac = ''\n",
    "        if self.mac in data:\n",
    "            mac = self.mac\n",
    "        elif self.mac.upper() in data:\n",
    "            mac = self.mac.upper()\n",
    "\n",
    "        if mac:\n",
    "            name = '{} of {}'.format(data[mac]['type'], data[mac]['owner'])\n",
    "            return {'name': name, 'allowed': data[mac]['allowed'], 'location': data[mac]['location']}\n",
    "\n",
    "        return None\n",
    "\n",
    "    def to_list(self):\n",
    "        '''Return a list [mac, ip, network_name, name, location, allowed]\n",
    "\n",
    "        Creates a list of device attributes as colored strings\n",
    "            green: allowed in the network\n",
    "            red: not allowed\n",
    "        '''\n",
    "        if self.allowed:\n",
    "            color = g\n",
    "        else:\n",
    "            color = r\n",
    "\n",
    "        mac = '{}{}{}'.format(color, self.mac, n)\n",
    "        ip = '{}{}{}'.format(color, self.ip, n)\n",
    "        network_name = '{}{}{}'.format(color, self.network_name, n)\n",
    "        name = '{}{}{}'.format(color, self.name, n)\n",
    "        location = '{}{}{}'.format(color, self.location, n)\n",
    "        allowed = '{}{}{}'.format(color, self.allowed, n)\n",
    "\n",
    "        return [mac, ip, network_name, name, location, allowed]\n",
    "\n",
    "    def to_string(self):\n",
    "        '''Return a str\n",
    "\n",
    "        Device information as a string with indentations for the log file\n",
    "        '''\n",
    "        return 'Log: {} \\n\\t Mac Address: {} \\n\\t Name in network: {} \\n\\t Given name: {} \\n\\t Allowed on network: {}'.format(datetime.now(), self.mac, self.network_name, self.name, self.allowed)\n"
   ]
  },
  {
   "cell_type": "code",
   "execution_count": null,
   "metadata": {},
   "outputs": [],
   "source": []
  },
  {
   "cell_type": "code",
   "execution_count": null,
   "metadata": {},
   "outputs": [],
   "source": [
    "\n",
    "\n",
    "\n",
    "\n",
    "\n",
    "# from device import Device\n",
    "\n",
    "\n",
    "\n",
    "\n",
    "    \n",
    "\n",
    "\n",
    "\n",
    "def create_device_list(devices, data):\n",
    "    ''' Return a dictonary like {'known': [], 'unknown': []}\n",
    "\n",
    "    Creates 2 lists from devices (class Device) and makes them available in a dictionary\n",
    "       - 'known': list of known devices (mac address included in the data/device.json)\n",
    "       - 'unknown': list of unknown devices (not included)\n",
    "    '''\n",
    "    known_devices = []\n",
    "    unknown_devices = []\n",
    "\n",
    "    for host, info in devices:\n",
    "        device = Device(info['mac'], host, info['hostnames'][0]['name'], data)\n",
    "        if device.name:\n",
    "            known_devices.append(device)\n",
    "        else:\n",
    "            unknown_devices.append(device)\n",
    "\n",
    "    return {'known': known_devices, 'unknown': unknown_devices}\n",
    "\n",
    "if __name__ == '__main__':\n",
    "    dataPath = 'data'\n",
    "    try:\n",
    "        with open(\"{}/devices.json\".format(dataPath), \"r\") as readFile:\n",
    "                json_devices = json.load(readFile)\n",
    "    except FileNotFoundError:\n",
    "                json_devices = {}\n",
    "                print('''No valid \"data/devices.json\" found. Please create one with the following format:\n",
    "{\n",
    "    \"00:00:00:00:00:00\":\n",
    "    {\n",
    "      \"type\": \"Device\",\n",
    "      \"owner\": \"John Appleseed\",\n",
    "      \"location\": null,\n",
    "      \"allowed\": true\n",
    "    }\n",
    "}\n",
    "            ''')\n",
    "\n",
    "    network = Network()\n",
    "\n",
    "    try:\n",
    "        devices = network.get_devices()\n",
    "    except KeyboardInterrupt:\n",
    "        print('You stopped scanning. Scanning may take a while. If it takes too long, there may be a problem with the connection. Did you specify the correct network?')\n",
    "        sys.exit()\n",
    "\n",
    "    for host, info in devices:\n",
    "        info['mac'] = get_mac_address(ip=host)\n",
    "\n",
    "    data = create_device_list(devices, json_devices)\n",
    "    log_text = ''\n",
    "\n",
    "    table = PrettyTable()\n",
    "    table.field_names = [\"MAC ADDRESS\", \"IP\", \"NAME IN NETWORK\", \"NAME\", 'LOCATION', 'ALLOWED']\n",
    "    for device in data['known']:\n",
    "        table.add_row(device.to_list())\n",
    "        log_text += '{}\\n'.format(device.to_string())\n",
    "    \n",
    "    print('Known Devices\\n{}'.format(table))\n",
    "\n",
    "    table = PrettyTable()\n",
    "    table.field_names = [\"MAC ADDRESS\", \"IP\", \"NAME IN NETWORK\"]\n",
    "    for device in data['unknown']:\n",
    "        table.add_row(device.to_list()[:3])\n",
    "        log_text += '{}\\n'.format(device.to_string())\n",
    "    \n",
    "    print('Unknown Devices\\n{}'.format(table))\n",
    "\n",
    "if not os.path.isdir(dataPath):\n",
    "    os.mkdir(dataPath)\n",
    "\n",
    "with open(\"{}/{}.log\".format(dataPath, date.today()), \"a\") as appendFile:\n",
    "    appendFile.write(log_text)\n",
    "    print('You can find a log file with all devices in \"data/{}.log\"'.format(date.today()))\n"
   ]
  },
  {
   "cell_type": "code",
   "execution_count": null,
   "metadata": {},
   "outputs": [],
   "source": []
  },
  {
   "cell_type": "code",
   "execution_count": null,
   "metadata": {},
   "outputs": [],
   "source": []
  },
  {
   "cell_type": "code",
   "execution_count": null,
   "metadata": {},
   "outputs": [],
   "source": []
  },
  {
   "cell_type": "code",
   "execution_count": null,
   "metadata": {},
   "outputs": [],
   "source": []
  },
  {
   "cell_type": "markdown",
   "metadata": {},
   "source": [
    "---\n",
    "\n",
    "## Other\n",
    "\n",
    "---"
   ]
  },
  {
   "cell_type": "code",
   "execution_count": null,
   "metadata": {
    "ExecuteTime": {
     "end_time": "2021-05-30T00:31:05.962844Z",
     "start_time": "2021-05-30T00:31:05.958325Z"
    }
   },
   "outputs": [],
   "source": [
    "## Getting MAC address of this device\n",
    "\n",
    "\n",
    "\n"
   ]
  },
  {
   "cell_type": "code",
   "execution_count": null,
   "metadata": {
    "ExecuteTime": {
     "end_time": "2021-05-30T00:31:26.205233Z",
     "start_time": "2021-05-30T00:31:26.199350Z"
    }
   },
   "outputs": [],
   "source": [
    "import uuid\n",
    "print(hex(uuid.getnode()))\n",
    "\n",
    "\n",
    "def get_mac_address(setting='en0'):\n",
    "    \"\"\"Get mac address.\n",
    "    \"\"\"\n",
    "    # mac = uuid.UUID(int=uuid.getnode()).hex[-12:]\n",
    "    # return \":\".join([mac[e:e+2] for e in range(0, 11, 2)]) \n",
    "    if setting=='en0':\n",
    "        return ':'.join(re.findall('..', '%012x' % uuid.getnode())) \n",
    "    return ':'.join(['{:02x}'.format((uuid.getnode() >> elements) & 0xff) \n",
    "                            for elements in range(0,2*6,2)][::-1])\n",
    "\n",
    "\n",
    "get_mac_address()\n"
   ]
  },
  {
   "cell_type": "code",
   "execution_count": null,
   "metadata": {
    "ExecuteTime": {
     "end_time": "2021-05-29T23:34:48.611089Z",
     "start_time": "2021-05-29T23:34:48.603812Z"
    }
   },
   "outputs": [],
   "source": [
    "import netifaces\n",
    "\n",
    "netifaces.interfaces()\n",
    "netifaces.ifaddresses('en0')"
   ]
  },
  {
   "cell_type": "code",
   "execution_count": null,
   "metadata": {
    "ExecuteTime": {
     "end_time": "2021-05-29T23:34:51.763036Z",
     "start_time": "2021-05-29T23:34:51.755622Z"
    }
   },
   "outputs": [],
   "source": [
    "netifaces.ifaddresses('en5')\n"
   ]
  },
  {
   "cell_type": "code",
   "execution_count": null,
   "metadata": {
    "ExecuteTime": {
     "end_time": "2021-05-29T23:58:06.949874Z",
     "start_time": "2021-05-29T23:58:06.945694Z"
    }
   },
   "outputs": [],
   "source": [
    "address = netifaces.ifaddresses('en0')\n",
    "address"
   ]
  },
  {
   "cell_type": "code",
   "execution_count": null,
   "metadata": {
    "ExecuteTime": {
     "end_time": "2021-05-30T00:00:53.250534Z",
     "start_time": "2021-05-30T00:00:53.239705Z"
    }
   },
   "outputs": [],
   "source": [
    "address[netifaces.AF_INET][0]['addr']\n",
    "address[netifaces.AF_LINK][0]['addr']\n",
    "\n"
   ]
  },
  {
   "cell_type": "code",
   "execution_count": null,
   "metadata": {
    "ExecuteTime": {
     "end_time": "2021-05-29T23:35:06.730802Z",
     "start_time": "2021-05-29T23:35:06.714211Z"
    }
   },
   "outputs": [],
   "source": [
    "import socket\n",
    "import psutil\n",
    "\n",
    "def get_ip_addresses(family):\n",
    "    for interface, snics in psutil.net_if_addrs().items():\n",
    "        for snic in snics:\n",
    "            if snic.family == family:\n",
    "                yield (interface, snic.address)\n",
    "\n",
    "ipv4s = list(get_ip_addresses(socket.AF_INET))\n",
    "ipv6s = list(get_ip_addresses(socket.AF_INET6))\n",
    "\n",
    "ipv4s, list(get_ip_addresses(socket.AddressFamily))\n"
   ]
  },
  {
   "cell_type": "code",
   "execution_count": null,
   "metadata": {
    "ExecuteTime": {
     "end_time": "2021-05-29T23:35:09.032284Z",
     "start_time": "2021-05-29T23:35:09.026123Z"
    }
   },
   "outputs": [],
   "source": [
    "\n",
    "\n",
    "netifaces.ifaddresses('lo0')\n"
   ]
  },
  {
   "cell_type": "code",
   "execution_count": null,
   "metadata": {
    "ExecuteTime": {
     "end_time": "2021-05-29T23:35:12.849329Z",
     "start_time": "2021-05-29T23:35:12.844163Z"
    }
   },
   "outputs": [],
   "source": [
    "\n",
    "\n",
    "netifaces.AF_LINK\n",
    "\n",
    "\n",
    "addrs = netifaces.ifaddresses('lo0')\n",
    "addrs[netifaces.AF_INET]\n"
   ]
  },
  {
   "cell_type": "code",
   "execution_count": null,
   "metadata": {
    "ExecuteTime": {
     "end_time": "2021-05-29T20:02:34.394235Z",
     "start_time": "2021-05-29T20:02:34.389393Z"
    }
   },
   "outputs": [],
   "source": [
    "addrs = \n",
    "addrs[netifaces.AF_INET]\n"
   ]
  },
  {
   "cell_type": "code",
   "execution_count": null,
   "metadata": {
    "ExecuteTime": {
     "end_time": "2021-05-29T23:35:17.652318Z",
     "start_time": "2021-05-29T23:35:17.626241Z"
    }
   },
   "outputs": [],
   "source": [
    "addrs[netifaces.AF_LINK]\n"
   ]
  },
  {
   "cell_type": "code",
   "execution_count": null,
   "metadata": {
    "ExecuteTime": {
     "end_time": "2021-05-29T20:03:39.486730Z",
     "start_time": "2021-05-29T20:03:39.471228Z"
    }
   },
   "outputs": [],
   "source": [
    "addrs = netifaces.ifaddresses('fw0')\n",
    "addrs[netifaces.AF_LINK]\n"
   ]
  },
  {
   "cell_type": "code",
   "execution_count": null,
   "metadata": {},
   "outputs": [],
   "source": []
  },
  {
   "cell_type": "code",
   "execution_count": null,
   "metadata": {
    "ExecuteTime": {
     "end_time": "2021-05-29T19:44:57.139025Z",
     "start_time": "2021-05-29T19:44:46.723302Z"
    }
   },
   "outputs": [],
   "source": [
    "# from getmac import get_mac_address\n",
    "# eth_mac = get_mac_address(interface=\"eth0\")\n",
    "# win_mac = get_mac_address(interface=\"Ethernet 3\")\n",
    "# ip_mac = get_mac_address(ip=\"192.168.0.1\")\n",
    "# ip6_mac = get_mac_address(ip6=\"::1\")\n",
    "# host_mac = get_mac_address(hostname=\"localhost\")\n",
    "# updated_mac = get_mac_address(ip=\"10.0.0.1\", network_request=True)\n",
    "\n",
    "# # Changing the port used for updating ARP table (UDP packet)\n",
    "# from getmac import getmac\n",
    "# getmac.PORT = 44444  # Default: 55555\n",
    "# print(getmac.get_mac_address(ip=\"192.168.0.1\", network_request=True))\n",
    "\n",
    "# # Enabling debugging\n",
    "# from getmac import getmac\n",
    "# getmac.DEBUG = 2  # DEBUG level 2\n",
    "# print(getmac.get_mac_address(interface=\"Ethernet 3\"))"
   ]
  },
  {
   "cell_type": "code",
   "execution_count": null,
   "metadata": {},
   "outputs": [],
   "source": []
  },
  {
   "cell_type": "code",
   "execution_count": null,
   "metadata": {},
   "outputs": [],
   "source": []
  },
  {
   "cell_type": "code",
   "execution_count": null,
   "metadata": {},
   "outputs": [],
   "source": []
  },
  {
   "cell_type": "markdown",
   "metadata": {},
   "source": [
    "https://www.thepythoncode.com/article/building-wifi-scanner-in-python-scapy"
   ]
  },
  {
   "cell_type": "markdown",
   "metadata": {},
   "source": [
    "-----"
   ]
  }
 ],
 "metadata": {
  "kernelspec": {
   "display_name": "MyOfficeEnv",
   "language": "python",
   "name": "myofficeenv"
  },
  "language_info": {
   "codemirror_mode": {
    "name": "ipython",
    "version": 3
   },
   "file_extension": ".py",
   "mimetype": "text/x-python",
   "name": "python",
   "nbconvert_exporter": "python",
   "pygments_lexer": "ipython3",
   "version": "3.7.4"
  },
  "toc": {
   "base_numbering": 1,
   "nav_menu": {},
   "number_sections": true,
   "sideBar": true,
   "skip_h1_title": false,
   "title_cell": "Table of Contents",
   "title_sidebar": "Contents",
   "toc_cell": false,
   "toc_position": {},
   "toc_section_display": true,
   "toc_window_display": false
  },
  "varInspector": {
   "cols": {
    "lenName": 16,
    "lenType": 16,
    "lenVar": 40
   },
   "kernels_config": {
    "python": {
     "delete_cmd_postfix": "",
     "delete_cmd_prefix": "del ",
     "library": "var_list.py",
     "varRefreshCmd": "print(var_dic_list())"
    },
    "r": {
     "delete_cmd_postfix": ") ",
     "delete_cmd_prefix": "rm(",
     "library": "var_list.r",
     "varRefreshCmd": "cat(var_dic_list()) "
    }
   },
   "types_to_exclude": [
    "module",
    "function",
    "builtin_function_or_method",
    "instance",
    "_Feature"
   ],
   "window_display": false
  }
 },
 "nbformat": 4,
 "nbformat_minor": 2
}
